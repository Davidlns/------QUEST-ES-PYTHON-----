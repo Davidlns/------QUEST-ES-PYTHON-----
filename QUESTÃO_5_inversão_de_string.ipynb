{
  "nbformat": 4,
  "nbformat_minor": 0,
  "metadata": {
    "colab": {
      "provenance": [],
      "authorship_tag": "ABX9TyMIG7uCMJaveuY0N4BqNPdU",
      "include_colab_link": true
    },
    "kernelspec": {
      "name": "python3",
      "display_name": "Python 3"
    },
    "language_info": {
      "name": "python"
    }
  },
  "cells": [
    {
      "cell_type": "markdown",
      "metadata": {
        "id": "view-in-github",
        "colab_type": "text"
      },
      "source": [
        "<a href=\"https://colab.research.google.com/github/Davidlns/------QUESTOES-PYTHON-----/blob/main/QUEST%C3%83O_5_invers%C3%A3o_de_string.ipynb\" target=\"_parent\"><img src=\"https://colab.research.google.com/assets/colab-badge.svg\" alt=\"Open In Colab\"/></a>"
      ]
    },
    {
      "cell_type": "code",
      "execution_count": 3,
      "metadata": {
        "colab": {
          "base_uri": "https://localhost:8080/"
        },
        "id": "8ZBVoGloDw54",
        "outputId": "181db2b1-c2ec-4702-95b4-9cb84cffc744"
      },
      "outputs": [
        {
          "output_type": "stream",
          "name": "stdout",
          "text": [
            "Informe a palavra que deseja inverter: Dinossauro\n",
            "oruassoniD\n"
          ]
        }
      ],
      "source": [
        "def inverter_string(s):\n",
        "    return s[::-1]\n",
        "\n",
        "try:\n",
        "\n",
        "  entrada = input('Informe a palavra que deseja inverter: ')\n",
        "  saida = inverter_string(entrada)\n",
        "  print(saida)\n",
        "\n",
        "except:\n",
        "  print('Reinicie o programa e informe uma palavra válida!!')\n"
      ]
    },
    {
      "cell_type": "code",
      "source": [],
      "metadata": {
        "id": "KmnDhsDfD77z"
      },
      "execution_count": null,
      "outputs": []
    }
  ]
}